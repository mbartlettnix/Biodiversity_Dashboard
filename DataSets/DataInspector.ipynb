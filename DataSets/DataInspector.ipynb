{
 "cells": [
  {
   "cell_type": "code",
   "execution_count": 20,
   "metadata": {
    "collapsed": true
   },
   "outputs": [],
   "source": [
    "import sqlalchemy\n",
    "from sqlalchemy import create_engine, inspect, func\n",
    "from sqlalchemy.ext.automap import automap_base\n",
    "from sqlalchemy.orm import Session\n",
    "\n",
    "from sqlalchemy import MetaData\n",
    "from sqlalchemy import Table\n",
    "\n",
    "\n",
    "import numpy as np\n",
    "import pandas as pd"
   ]
  },
  {
   "cell_type": "code",
   "execution_count": 21,
   "metadata": {
    "collapsed": true
   },
   "outputs": [],
   "source": [
    "engine = create_engine(\"sqlite:///belly_button_biodiversity.sqlite\")\n",
    "inspector = inspect(engine)"
   ]
  },
  {
   "cell_type": "code",
   "execution_count": 22,
   "metadata": {
    "collapsed": true
   },
   "outputs": [],
   "source": [
    "sampNames=[]\n",
    "engine = create_engine(\"sqlite:///belly_button_biodiversity.sqlite\")\n",
    "inspector = inspect(engine)\n",
    "for field in inspector.get_columns(table_name='samples'):\n",
    "    sampNames.append(field[\"name\"])"
   ]
  },
  {
   "cell_type": "code",
   "execution_count": 24,
   "metadata": {},
   "outputs": [
    {
     "data": {
      "text/plain": [
       "['otu', 'samples', 'samples_metadata']"
      ]
     },
     "execution_count": 24,
     "metadata": {},
     "output_type": "execute_result"
    }
   ],
   "source": [
    "Base = automap_base()\n",
    "Base.prepare(engine, reflect=True)    \n",
    "Base.classes.keys()"
   ]
  },
  {
   "cell_type": "code",
   "execution_count": 25,
   "metadata": {
    "collapsed": true
   },
   "outputs": [],
   "source": [
    "otu = Base.classes.otu\n",
    "samples = Base.classes.samples\n",
    "samples_meta = Base.classes.samples_metadata"
   ]
  },
  {
   "cell_type": "code",
   "execution_count": 26,
   "metadata": {
    "collapsed": true
   },
   "outputs": [],
   "source": [
    "session = Session(engine)"
   ]
  },
  {
   "cell_type": "code",
   "execution_count": 27,
   "metadata": {},
   "outputs": [
    {
     "name": "stdout",
     "output_type": "stream",
     "text": [
      "otu_id INTEGER\n",
      "lowest_taxonomic_unit_found TEXT\n"
     ]
    }
   ],
   "source": [
    "for field in inspector.get_columns(table_name='otu'):\n",
    "    print(field ['name'], field['type'])"
   ]
  },
  {
   "cell_type": "code",
   "execution_count": 28,
   "metadata": {
    "collapsed": true
   },
   "outputs": [],
   "source": [
    "df =[]\n",
    "for field in session.query(otu.lowest_taxonomic_unit_found):\n",
    "    df.append(field)"
   ]
  },
  {
   "cell_type": "code",
   "execution_count": null,
   "metadata": {
    "collapsed": true
   },
   "outputs": [],
   "source": []
  },
  {
   "cell_type": "code",
   "execution_count": 29,
   "metadata": {
    "scrolled": false
   },
   "outputs": [
    {
     "data": {
      "text/plain": [
       "<sqlalchemy.ext.automap.otu at 0x108ca90f0>"
      ]
     },
     "execution_count": 29,
     "metadata": {},
     "output_type": "execute_result"
    }
   ],
   "source": [
    "session.query(otu).first()"
   ]
  },
  {
   "cell_type": "code",
   "execution_count": 30,
   "metadata": {},
   "outputs": [
    {
     "name": "stdout",
     "output_type": "stream",
     "text": [
      "otu_id INTEGER\n",
      "BB_940 INTEGER\n",
      "BB_941 INTEGER\n",
      "BB_943 INTEGER\n",
      "BB_944 INTEGER\n",
      "BB_945 INTEGER\n",
      "BB_946 INTEGER\n",
      "BB_947 INTEGER\n",
      "BB_948 INTEGER\n",
      "BB_949 INTEGER\n",
      "BB_950 INTEGER\n",
      "BB_952 INTEGER\n",
      "BB_953 INTEGER\n",
      "BB_954 INTEGER\n",
      "BB_955 INTEGER\n",
      "BB_956 INTEGER\n",
      "BB_958 INTEGER\n",
      "BB_959 INTEGER\n",
      "BB_960 INTEGER\n",
      "BB_961 INTEGER\n",
      "BB_962 INTEGER\n",
      "BB_963 INTEGER\n",
      "BB_964 INTEGER\n",
      "BB_966 INTEGER\n",
      "BB_967 INTEGER\n",
      "BB_968 INTEGER\n",
      "BB_969 INTEGER\n",
      "BB_970 INTEGER\n",
      "BB_971 INTEGER\n",
      "BB_972 INTEGER\n",
      "BB_973 INTEGER\n",
      "BB_974 INTEGER\n",
      "BB_975 INTEGER\n",
      "BB_978 INTEGER\n",
      "BB_1233 INTEGER\n",
      "BB_1234 INTEGER\n",
      "BB_1235 INTEGER\n",
      "BB_1236 INTEGER\n",
      "BB_1237 INTEGER\n",
      "BB_1238 INTEGER\n",
      "BB_1242 INTEGER\n",
      "BB_1243 INTEGER\n",
      "BB_1246 INTEGER\n",
      "BB_1253 INTEGER\n",
      "BB_1254 INTEGER\n",
      "BB_1258 INTEGER\n",
      "BB_1259 INTEGER\n",
      "BB_1260 INTEGER\n",
      "BB_1264 INTEGER\n",
      "BB_1265 INTEGER\n",
      "BB_1273 INTEGER\n",
      "BB_1275 INTEGER\n",
      "BB_1276 INTEGER\n",
      "BB_1277 INTEGER\n",
      "BB_1278 INTEGER\n",
      "BB_1279 INTEGER\n",
      "BB_1280 INTEGER\n",
      "BB_1281 INTEGER\n",
      "BB_1282 INTEGER\n",
      "BB_1283 INTEGER\n",
      "BB_1284 INTEGER\n",
      "BB_1285 INTEGER\n",
      "BB_1286 INTEGER\n",
      "BB_1287 INTEGER\n",
      "BB_1288 INTEGER\n",
      "BB_1289 INTEGER\n",
      "BB_1290 INTEGER\n",
      "BB_1291 INTEGER\n",
      "BB_1292 INTEGER\n",
      "BB_1293 INTEGER\n",
      "BB_1294 INTEGER\n",
      "BB_1295 INTEGER\n",
      "BB_1296 INTEGER\n",
      "BB_1297 INTEGER\n",
      "BB_1298 INTEGER\n",
      "BB_1308 INTEGER\n",
      "BB_1309 INTEGER\n",
      "BB_1310 INTEGER\n",
      "BB_1374 INTEGER\n",
      "BB_1415 INTEGER\n",
      "BB_1439 INTEGER\n",
      "BB_1441 INTEGER\n",
      "BB_1443 INTEGER\n",
      "BB_1486 INTEGER\n",
      "BB_1487 INTEGER\n",
      "BB_1489 INTEGER\n",
      "BB_1490 INTEGER\n",
      "BB_1491 INTEGER\n",
      "BB_1494 INTEGER\n",
      "BB_1495 INTEGER\n",
      "BB_1497 INTEGER\n",
      "BB_1499 INTEGER\n",
      "BB_1500 INTEGER\n",
      "BB_1501 INTEGER\n",
      "BB_1502 INTEGER\n",
      "BB_1503 INTEGER\n",
      "BB_1504 INTEGER\n",
      "BB_1505 INTEGER\n",
      "BB_1506 INTEGER\n",
      "BB_1507 INTEGER\n",
      "BB_1508 INTEGER\n",
      "BB_1510 INTEGER\n",
      "BB_1511 INTEGER\n",
      "BB_1512 INTEGER\n",
      "BB_1513 INTEGER\n",
      "BB_1514 INTEGER\n",
      "BB_1515 INTEGER\n",
      "BB_1516 INTEGER\n",
      "BB_1517 INTEGER\n",
      "BB_1518 INTEGER\n",
      "BB_1519 INTEGER\n",
      "BB_1521 INTEGER\n",
      "BB_1524 INTEGER\n",
      "BB_1526 INTEGER\n",
      "BB_1527 INTEGER\n",
      "BB_1530 INTEGER\n",
      "BB_1531 INTEGER\n",
      "BB_1532 INTEGER\n",
      "BB_1533 INTEGER\n",
      "BB_1534 INTEGER\n",
      "BB_1535 INTEGER\n",
      "BB_1536 INTEGER\n",
      "BB_1537 INTEGER\n",
      "BB_1539 INTEGER\n",
      "BB_1540 INTEGER\n",
      "BB_1541 INTEGER\n",
      "BB_1542 INTEGER\n",
      "BB_1543 INTEGER\n",
      "BB_1544 INTEGER\n",
      "BB_1545 INTEGER\n",
      "BB_1546 INTEGER\n",
      "BB_1547 INTEGER\n",
      "BB_1548 INTEGER\n",
      "BB_1549 INTEGER\n",
      "BB_1550 INTEGER\n",
      "BB_1551 INTEGER\n",
      "BB_1552 INTEGER\n",
      "BB_1553 INTEGER\n",
      "BB_1554 INTEGER\n",
      "BB_1555 INTEGER\n",
      "BB_1556 INTEGER\n",
      "BB_1557 INTEGER\n",
      "BB_1558 INTEGER\n",
      "BB_1561 INTEGER\n",
      "BB_1562 INTEGER\n",
      "BB_1563 INTEGER\n",
      "BB_1564 INTEGER\n",
      "BB_1572 INTEGER\n",
      "BB_1573 INTEGER\n",
      "BB_1574 INTEGER\n",
      "BB_1576 INTEGER\n",
      "BB_1577 INTEGER\n",
      "BB_1581 INTEGER\n",
      "BB_1601 INTEGER\n"
     ]
    }
   ],
   "source": [
    "for field in inspector.get_columns(table_name='samples'):\n",
    "    print(field ['name'], field['type'])"
   ]
  },
  {
   "cell_type": "code",
   "execution_count": 31,
   "metadata": {},
   "outputs": [
    {
     "name": "stdout",
     "output_type": "stream",
     "text": [
      "SAMPLEID INTEGER\n",
      "EVENT TEXT\n",
      "ETHNICITY TEXT\n",
      "GENDER TEXT\n",
      "AGE INTEGER\n",
      "WFREQ INTEGER\n",
      "BBTYPE TEXT\n",
      "LOCATION TEXT\n",
      "COUNTRY012 TEXT\n",
      "ZIP012 INTEGER\n",
      "COUNTRY1319 TEXT\n",
      "ZIP1319 INTEGER\n",
      "DOG TEXT\n",
      "CAT TEXT\n",
      "IMPSURFACE013 INTEGER\n",
      "NPP013 FLOAT\n",
      "MMAXTEMP013 FLOAT\n",
      "PFC013 FLOAT\n",
      "IMPSURFACE1319 INTEGER\n",
      "NPP1319 FLOAT\n",
      "MMAXTEMP1319 FLOAT\n",
      "PFC1319 FLOAT\n"
     ]
    }
   ],
   "source": [
    "for field in inspector.get_columns(table_name='samples_metadata'):\n",
    "    print(field ['name'], field['type'])"
   ]
  },
  {
   "cell_type": "code",
   "execution_count": 32,
   "metadata": {},
   "outputs": [
    {
     "name": "stdout",
     "output_type": "stream",
     "text": [
      "immutabledict({'otu': Table('otu', MetaData(bind=Engine(sqlite:///belly_button_biodiversity.sqlite)), Column('otu_id', INTEGER(), table=<otu>, primary_key=True, nullable=False), Column('lowest_taxonomic_unit_found', TEXT(), table=<otu>), schema=None), 'samples': Table('samples', MetaData(bind=Engine(sqlite:///belly_button_biodiversity.sqlite)), Column('otu_id', INTEGER(), table=<samples>, primary_key=True, nullable=False), Column('BB_940', INTEGER(), table=<samples>), Column('BB_941', INTEGER(), table=<samples>), Column('BB_943', INTEGER(), table=<samples>), Column('BB_944', INTEGER(), table=<samples>), Column('BB_945', INTEGER(), table=<samples>), Column('BB_946', INTEGER(), table=<samples>), Column('BB_947', INTEGER(), table=<samples>), Column('BB_948', INTEGER(), table=<samples>), Column('BB_949', INTEGER(), table=<samples>), Column('BB_950', INTEGER(), table=<samples>), Column('BB_952', INTEGER(), table=<samples>), Column('BB_953', INTEGER(), table=<samples>), Column('BB_954', INTEGER(), table=<samples>), Column('BB_955', INTEGER(), table=<samples>), Column('BB_956', INTEGER(), table=<samples>), Column('BB_958', INTEGER(), table=<samples>), Column('BB_959', INTEGER(), table=<samples>), Column('BB_960', INTEGER(), table=<samples>), Column('BB_961', INTEGER(), table=<samples>), Column('BB_962', INTEGER(), table=<samples>), Column('BB_963', INTEGER(), table=<samples>), Column('BB_964', INTEGER(), table=<samples>), Column('BB_966', INTEGER(), table=<samples>), Column('BB_967', INTEGER(), table=<samples>), Column('BB_968', INTEGER(), table=<samples>), Column('BB_969', INTEGER(), table=<samples>), Column('BB_970', INTEGER(), table=<samples>), Column('BB_971', INTEGER(), table=<samples>), Column('BB_972', INTEGER(), table=<samples>), Column('BB_973', INTEGER(), table=<samples>), Column('BB_974', INTEGER(), table=<samples>), Column('BB_975', INTEGER(), table=<samples>), Column('BB_978', INTEGER(), table=<samples>), Column('BB_1233', INTEGER(), table=<samples>), Column('BB_1234', INTEGER(), table=<samples>), Column('BB_1235', INTEGER(), table=<samples>), Column('BB_1236', INTEGER(), table=<samples>), Column('BB_1237', INTEGER(), table=<samples>), Column('BB_1238', INTEGER(), table=<samples>), Column('BB_1242', INTEGER(), table=<samples>), Column('BB_1243', INTEGER(), table=<samples>), Column('BB_1246', INTEGER(), table=<samples>), Column('BB_1253', INTEGER(), table=<samples>), Column('BB_1254', INTEGER(), table=<samples>), Column('BB_1258', INTEGER(), table=<samples>), Column('BB_1259', INTEGER(), table=<samples>), Column('BB_1260', INTEGER(), table=<samples>), Column('BB_1264', INTEGER(), table=<samples>), Column('BB_1265', INTEGER(), table=<samples>), Column('BB_1273', INTEGER(), table=<samples>), Column('BB_1275', INTEGER(), table=<samples>), Column('BB_1276', INTEGER(), table=<samples>), Column('BB_1277', INTEGER(), table=<samples>), Column('BB_1278', INTEGER(), table=<samples>), Column('BB_1279', INTEGER(), table=<samples>), Column('BB_1280', INTEGER(), table=<samples>), Column('BB_1281', INTEGER(), table=<samples>), Column('BB_1282', INTEGER(), table=<samples>), Column('BB_1283', INTEGER(), table=<samples>), Column('BB_1284', INTEGER(), table=<samples>), Column('BB_1285', INTEGER(), table=<samples>), Column('BB_1286', INTEGER(), table=<samples>), Column('BB_1287', INTEGER(), table=<samples>), Column('BB_1288', INTEGER(), table=<samples>), Column('BB_1289', INTEGER(), table=<samples>), Column('BB_1290', INTEGER(), table=<samples>), Column('BB_1291', INTEGER(), table=<samples>), Column('BB_1292', INTEGER(), table=<samples>), Column('BB_1293', INTEGER(), table=<samples>), Column('BB_1294', INTEGER(), table=<samples>), Column('BB_1295', INTEGER(), table=<samples>), Column('BB_1296', INTEGER(), table=<samples>), Column('BB_1297', INTEGER(), table=<samples>), Column('BB_1298', INTEGER(), table=<samples>), Column('BB_1308', INTEGER(), table=<samples>), Column('BB_1309', INTEGER(), table=<samples>), Column('BB_1310', INTEGER(), table=<samples>), Column('BB_1374', INTEGER(), table=<samples>), Column('BB_1415', INTEGER(), table=<samples>), Column('BB_1439', INTEGER(), table=<samples>), Column('BB_1441', INTEGER(), table=<samples>), Column('BB_1443', INTEGER(), table=<samples>), Column('BB_1486', INTEGER(), table=<samples>), Column('BB_1487', INTEGER(), table=<samples>), Column('BB_1489', INTEGER(), table=<samples>), Column('BB_1490', INTEGER(), table=<samples>), Column('BB_1491', INTEGER(), table=<samples>), Column('BB_1494', INTEGER(), table=<samples>), Column('BB_1495', INTEGER(), table=<samples>), Column('BB_1497', INTEGER(), table=<samples>), Column('BB_1499', INTEGER(), table=<samples>), Column('BB_1500', INTEGER(), table=<samples>), Column('BB_1501', INTEGER(), table=<samples>), Column('BB_1502', INTEGER(), table=<samples>), Column('BB_1503', INTEGER(), table=<samples>), Column('BB_1504', INTEGER(), table=<samples>), Column('BB_1505', INTEGER(), table=<samples>), Column('BB_1506', INTEGER(), table=<samples>), Column('BB_1507', INTEGER(), table=<samples>), Column('BB_1508', INTEGER(), table=<samples>), Column('BB_1510', INTEGER(), table=<samples>), Column('BB_1511', INTEGER(), table=<samples>), Column('BB_1512', INTEGER(), table=<samples>), Column('BB_1513', INTEGER(), table=<samples>), Column('BB_1514', INTEGER(), table=<samples>), Column('BB_1515', INTEGER(), table=<samples>), Column('BB_1516', INTEGER(), table=<samples>), Column('BB_1517', INTEGER(), table=<samples>), Column('BB_1518', INTEGER(), table=<samples>), Column('BB_1519', INTEGER(), table=<samples>), Column('BB_1521', INTEGER(), table=<samples>), Column('BB_1524', INTEGER(), table=<samples>), Column('BB_1526', INTEGER(), table=<samples>), Column('BB_1527', INTEGER(), table=<samples>), Column('BB_1530', INTEGER(), table=<samples>), Column('BB_1531', INTEGER(), table=<samples>), Column('BB_1532', INTEGER(), table=<samples>), Column('BB_1533', INTEGER(), table=<samples>), Column('BB_1534', INTEGER(), table=<samples>), Column('BB_1535', INTEGER(), table=<samples>), Column('BB_1536', INTEGER(), table=<samples>), Column('BB_1537', INTEGER(), table=<samples>), Column('BB_1539', INTEGER(), table=<samples>), Column('BB_1540', INTEGER(), table=<samples>), Column('BB_1541', INTEGER(), table=<samples>), Column('BB_1542', INTEGER(), table=<samples>), Column('BB_1543', INTEGER(), table=<samples>), Column('BB_1544', INTEGER(), table=<samples>), Column('BB_1545', INTEGER(), table=<samples>), Column('BB_1546', INTEGER(), table=<samples>), Column('BB_1547', INTEGER(), table=<samples>), Column('BB_1548', INTEGER(), table=<samples>), Column('BB_1549', INTEGER(), table=<samples>), Column('BB_1550', INTEGER(), table=<samples>), Column('BB_1551', INTEGER(), table=<samples>), Column('BB_1552', INTEGER(), table=<samples>), Column('BB_1553', INTEGER(), table=<samples>), Column('BB_1554', INTEGER(), table=<samples>), Column('BB_1555', INTEGER(), table=<samples>), Column('BB_1556', INTEGER(), table=<samples>), Column('BB_1557', INTEGER(), table=<samples>), Column('BB_1558', INTEGER(), table=<samples>), Column('BB_1561', INTEGER(), table=<samples>), Column('BB_1562', INTEGER(), table=<samples>), Column('BB_1563', INTEGER(), table=<samples>), Column('BB_1564', INTEGER(), table=<samples>), Column('BB_1572', INTEGER(), table=<samples>), Column('BB_1573', INTEGER(), table=<samples>), Column('BB_1574', INTEGER(), table=<samples>), Column('BB_1576', INTEGER(), table=<samples>), Column('BB_1577', INTEGER(), table=<samples>), Column('BB_1581', INTEGER(), table=<samples>), Column('BB_1601', INTEGER(), table=<samples>), schema=None), 'samples_metadata': Table('samples_metadata', MetaData(bind=Engine(sqlite:///belly_button_biodiversity.sqlite)), Column('SAMPLEID', INTEGER(), table=<samples_metadata>, primary_key=True, nullable=False), Column('EVENT', TEXT(), table=<samples_metadata>), Column('ETHNICITY', TEXT(), table=<samples_metadata>), Column('GENDER', TEXT(), table=<samples_metadata>), Column('AGE', INTEGER(), table=<samples_metadata>), Column('WFREQ', INTEGER(), table=<samples_metadata>), Column('BBTYPE', TEXT(), table=<samples_metadata>), Column('LOCATION', TEXT(), table=<samples_metadata>), Column('COUNTRY012', TEXT(), table=<samples_metadata>), Column('ZIP012', INTEGER(), table=<samples_metadata>), Column('COUNTRY1319', TEXT(), table=<samples_metadata>), Column('ZIP1319', INTEGER(), table=<samples_metadata>), Column('DOG', TEXT(), table=<samples_metadata>), Column('CAT', TEXT(), table=<samples_metadata>), Column('IMPSURFACE013', INTEGER(), table=<samples_metadata>), Column('NPP013', FLOAT(), table=<samples_metadata>), Column('MMAXTEMP013', FLOAT(), table=<samples_metadata>), Column('PFC013', FLOAT(), table=<samples_metadata>), Column('IMPSURFACE1319', INTEGER(), table=<samples_metadata>), Column('NPP1319', FLOAT(), table=<samples_metadata>), Column('MMAXTEMP1319', FLOAT(), table=<samples_metadata>), Column('PFC1319', FLOAT(), table=<samples_metadata>), schema=None)})\n"
     ]
    },
    {
     "name": "stderr",
     "output_type": "stream",
     "text": [
      "/Users/mindynix/anaconda3/lib/python3.6/site-packages/ipykernel_launcher.py:1: SADeprecationWarning: reflect=True is deprecate; please use the reflect() method.\n",
      "  \"\"\"Entry point for launching an IPython kernel.\n"
     ]
    }
   ],
   "source": [
    "metadata = MetaData(engine, reflect=True)\n",
    "print (metadata.tables)"
   ]
  },
  {
   "cell_type": "code",
   "execution_count": 33,
   "metadata": {},
   "outputs": [
    {
     "name": "stdout",
     "output_type": "stream",
     "text": [
      "otu\n"
     ]
    }
   ],
   "source": [
    "ex_table = metadata.tables['otu']\n",
    "print (ex_table)"
   ]
  },
  {
   "cell_type": "code",
   "execution_count": 34,
   "metadata": {
    "collapsed": true
   },
   "outputs": [],
   "source": [
    "df = pd.read_sql('SELECT * FROM samples', engine).set_index('otu_id')"
   ]
  },
  {
   "cell_type": "code",
   "execution_count": 36,
   "metadata": {},
   "outputs": [
    {
     "data": {
      "text/html": [
       "<div>\n",
       "<style>\n",
       "    .dataframe thead tr:only-child th {\n",
       "        text-align: right;\n",
       "    }\n",
       "\n",
       "    .dataframe thead th {\n",
       "        text-align: left;\n",
       "    }\n",
       "\n",
       "    .dataframe tbody tr th {\n",
       "        vertical-align: top;\n",
       "    }\n",
       "</style>\n",
       "<table border=\"1\" class=\"dataframe\">\n",
       "  <thead>\n",
       "    <tr style=\"text-align: right;\">\n",
       "      <th></th>\n",
       "      <th>BB_940</th>\n",
       "      <th>BB_941</th>\n",
       "      <th>BB_943</th>\n",
       "      <th>BB_944</th>\n",
       "      <th>BB_945</th>\n",
       "      <th>BB_946</th>\n",
       "      <th>BB_947</th>\n",
       "      <th>BB_948</th>\n",
       "      <th>BB_949</th>\n",
       "      <th>BB_950</th>\n",
       "      <th>...</th>\n",
       "      <th>BB_1562</th>\n",
       "      <th>BB_1563</th>\n",
       "      <th>BB_1564</th>\n",
       "      <th>BB_1572</th>\n",
       "      <th>BB_1573</th>\n",
       "      <th>BB_1574</th>\n",
       "      <th>BB_1576</th>\n",
       "      <th>BB_1577</th>\n",
       "      <th>BB_1581</th>\n",
       "      <th>BB_1601</th>\n",
       "    </tr>\n",
       "    <tr>\n",
       "      <th>otu_id</th>\n",
       "      <th></th>\n",
       "      <th></th>\n",
       "      <th></th>\n",
       "      <th></th>\n",
       "      <th></th>\n",
       "      <th></th>\n",
       "      <th></th>\n",
       "      <th></th>\n",
       "      <th></th>\n",
       "      <th></th>\n",
       "      <th></th>\n",
       "      <th></th>\n",
       "      <th></th>\n",
       "      <th></th>\n",
       "      <th></th>\n",
       "      <th></th>\n",
       "      <th></th>\n",
       "      <th></th>\n",
       "      <th></th>\n",
       "      <th></th>\n",
       "      <th></th>\n",
       "    </tr>\n",
       "  </thead>\n",
       "  <tbody>\n",
       "    <tr>\n",
       "      <th>1</th>\n",
       "      <td>0</td>\n",
       "      <td>0</td>\n",
       "      <td>0</td>\n",
       "      <td>0</td>\n",
       "      <td>0</td>\n",
       "      <td>0</td>\n",
       "      <td>0</td>\n",
       "      <td>0</td>\n",
       "      <td>0</td>\n",
       "      <td>0</td>\n",
       "      <td>...</td>\n",
       "      <td>0</td>\n",
       "      <td>0</td>\n",
       "      <td>0</td>\n",
       "      <td>0</td>\n",
       "      <td>0</td>\n",
       "      <td>0</td>\n",
       "      <td>0</td>\n",
       "      <td>0</td>\n",
       "      <td>0</td>\n",
       "      <td>0</td>\n",
       "    </tr>\n",
       "    <tr>\n",
       "      <th>2</th>\n",
       "      <td>0</td>\n",
       "      <td>0</td>\n",
       "      <td>0</td>\n",
       "      <td>0</td>\n",
       "      <td>0</td>\n",
       "      <td>0</td>\n",
       "      <td>0</td>\n",
       "      <td>0</td>\n",
       "      <td>0</td>\n",
       "      <td>0</td>\n",
       "      <td>...</td>\n",
       "      <td>0</td>\n",
       "      <td>0</td>\n",
       "      <td>0</td>\n",
       "      <td>0</td>\n",
       "      <td>0</td>\n",
       "      <td>0</td>\n",
       "      <td>0</td>\n",
       "      <td>0</td>\n",
       "      <td>0</td>\n",
       "      <td>0</td>\n",
       "    </tr>\n",
       "    <tr>\n",
       "      <th>3</th>\n",
       "      <td>0</td>\n",
       "      <td>0</td>\n",
       "      <td>0</td>\n",
       "      <td>0</td>\n",
       "      <td>0</td>\n",
       "      <td>0</td>\n",
       "      <td>0</td>\n",
       "      <td>0</td>\n",
       "      <td>0</td>\n",
       "      <td>0</td>\n",
       "      <td>...</td>\n",
       "      <td>0</td>\n",
       "      <td>0</td>\n",
       "      <td>0</td>\n",
       "      <td>0</td>\n",
       "      <td>0</td>\n",
       "      <td>0</td>\n",
       "      <td>0</td>\n",
       "      <td>0</td>\n",
       "      <td>0</td>\n",
       "      <td>0</td>\n",
       "    </tr>\n",
       "    <tr>\n",
       "      <th>4</th>\n",
       "      <td>0</td>\n",
       "      <td>0</td>\n",
       "      <td>0</td>\n",
       "      <td>0</td>\n",
       "      <td>0</td>\n",
       "      <td>0</td>\n",
       "      <td>0</td>\n",
       "      <td>0</td>\n",
       "      <td>0</td>\n",
       "      <td>0</td>\n",
       "      <td>...</td>\n",
       "      <td>0</td>\n",
       "      <td>0</td>\n",
       "      <td>0</td>\n",
       "      <td>0</td>\n",
       "      <td>0</td>\n",
       "      <td>0</td>\n",
       "      <td>0</td>\n",
       "      <td>0</td>\n",
       "      <td>0</td>\n",
       "      <td>0</td>\n",
       "    </tr>\n",
       "    <tr>\n",
       "      <th>5</th>\n",
       "      <td>0</td>\n",
       "      <td>0</td>\n",
       "      <td>0</td>\n",
       "      <td>0</td>\n",
       "      <td>0</td>\n",
       "      <td>0</td>\n",
       "      <td>0</td>\n",
       "      <td>0</td>\n",
       "      <td>0</td>\n",
       "      <td>0</td>\n",
       "      <td>...</td>\n",
       "      <td>0</td>\n",
       "      <td>0</td>\n",
       "      <td>0</td>\n",
       "      <td>0</td>\n",
       "      <td>0</td>\n",
       "      <td>0</td>\n",
       "      <td>0</td>\n",
       "      <td>0</td>\n",
       "      <td>0</td>\n",
       "      <td>0</td>\n",
       "    </tr>\n",
       "  </tbody>\n",
       "</table>\n",
       "<p>5 rows × 153 columns</p>\n",
       "</div>"
      ],
      "text/plain": [
       "        BB_940  BB_941  BB_943  BB_944  BB_945  BB_946  BB_947  BB_948  \\\n",
       "otu_id                                                                   \n",
       "1            0       0       0       0       0       0       0       0   \n",
       "2            0       0       0       0       0       0       0       0   \n",
       "3            0       0       0       0       0       0       0       0   \n",
       "4            0       0       0       0       0       0       0       0   \n",
       "5            0       0       0       0       0       0       0       0   \n",
       "\n",
       "        BB_949  BB_950   ...     BB_1562  BB_1563  BB_1564  BB_1572  BB_1573  \\\n",
       "otu_id                   ...                                                   \n",
       "1            0       0   ...           0        0        0        0        0   \n",
       "2            0       0   ...           0        0        0        0        0   \n",
       "3            0       0   ...           0        0        0        0        0   \n",
       "4            0       0   ...           0        0        0        0        0   \n",
       "5            0       0   ...           0        0        0        0        0   \n",
       "\n",
       "        BB_1574  BB_1576  BB_1577  BB_1581  BB_1601  \n",
       "otu_id                                               \n",
       "1             0        0        0        0        0  \n",
       "2             0        0        0        0        0  \n",
       "3             0        0        0        0        0  \n",
       "4             0        0        0        0        0  \n",
       "5             0        0        0        0        0  \n",
       "\n",
       "[5 rows x 153 columns]"
      ]
     },
     "execution_count": 36,
     "metadata": {},
     "output_type": "execute_result"
    }
   ],
   "source": [
    "df.head()"
   ]
  },
  {
   "cell_type": "code",
   "execution_count": null,
   "metadata": {},
   "outputs": [],
   "source": []
  },
  {
   "cell_type": "code",
   "execution_count": null,
   "metadata": {
    "collapsed": true
   },
   "outputs": [],
   "source": []
  }
 ],
 "metadata": {
  "kernelspec": {
   "display_name": "Python 3",
   "language": "python",
   "name": "python3"
  },
  "language_info": {
   "codemirror_mode": {
    "name": "ipython",
    "version": 3
   },
   "file_extension": ".py",
   "mimetype": "text/x-python",
   "name": "python",
   "nbconvert_exporter": "python",
   "pygments_lexer": "ipython3",
   "version": "3.6.3"
  }
 },
 "nbformat": 4,
 "nbformat_minor": 2
}
